{
 "cells": [
  {
   "cell_type": "markdown",
   "id": "460c9f3c",
   "metadata": {},
   "source": [
    "# if else"
   ]
  },
  {
   "cell_type": "code",
   "execution_count": 4,
   "id": "b1213652",
   "metadata": {},
   "outputs": [
    {
     "name": "stdout",
     "output_type": "stream",
     "text": [
      "age less than 25\n"
     ]
    }
   ],
   "source": [
    "age = 25\n",
    "if age <= 25 :\n",
    "    print(\"age less than 25\")\n",
    "else :\n",
    "    print(\"wrong value\")\n",
    "    "
   ]
  },
  {
   "cell_type": "code",
   "execution_count": null,
   "id": "cab684fc",
   "metadata": {},
   "outputs": [],
   "source": [
    "age = int(input(\"enter your age\"))\n",
    "if age >= 25 :\n",
    "    print(\"age is 25\")\n",
    "else :\n",
    "    print(\"Wrong value\")\n",
    "    "
   ]
  },
  {
   "cell_type": "markdown",
   "id": "0a7a55d6",
   "metadata": {},
   "source": [
    "# else if satament "
   ]
  },
  {
   "cell_type": "code",
   "execution_count": 16,
   "id": "53079498",
   "metadata": {},
   "outputs": [
    {
     "name": "stdout",
     "output_type": "stream",
     "text": [
      "student is first\n"
     ]
    }
   ],
   "source": [
    "\"\"\"When multiple value is assigned then use else if statement \"\"\"\n",
    "marks = 200\n",
    "if marks == 200 :\n",
    "    print(\"student is first\")\n",
    "elif marks >= 150 :\n",
    "    print(\"student got second number\")\n",
    "elif marks >= 100 :\n",
    "    print(\"Student gott therd number\")\n",
    "elif marks >= 50 :\n",
    "    print(\"Student is pass\")\n",
    "elif marks >= 35 :\n",
    "    print(\"student is pramote\")\n",
    "else :\n",
    "    print(\"student is fall\")\n",
    "    \n",
    "    "
   ]
  },
  {
   "cell_type": "code",
   "execution_count": 28,
   "id": "a6c7005a",
   "metadata": {},
   "outputs": [
    {
     "name": "stdout",
     "output_type": "stream",
     "text": [
      "student got promotion\n"
     ]
    }
   ],
   "source": [
    "marks = 5\n",
    "if marks == 200 :\n",
    "    print(\"student is first\")\n",
    "elif marks <= 35:\n",
    "    print(\"student got promotion\")\n",
    "elif marks <= 50 :\n",
    "    print(\"Student gott passing number\")\n",
    "elif marks <= 75 :\n",
    "    print(\"Student is first class\")\n",
    "elif marks <= 150:\n",
    "    print(\"student got best marks\")\n",
    "elif marks <= 200:\n",
    "    print(\"student got distigntion\")\n",
    "else:\n",
    "    print(\"faill\")"
   ]
  }
 ],
 "metadata": {
  "kernelspec": {
   "display_name": "Python 3 (ipykernel)",
   "language": "python",
   "name": "python3"
  },
  "language_info": {
   "codemirror_mode": {
    "name": "ipython",
    "version": 3
   },
   "file_extension": ".py",
   "mimetype": "text/x-python",
   "name": "python",
   "nbconvert_exporter": "python",
   "pygments_lexer": "ipython3",
   "version": "3.10.9"
  }
 },
 "nbformat": 4,
 "nbformat_minor": 5
}
