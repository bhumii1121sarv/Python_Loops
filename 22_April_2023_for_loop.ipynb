{
 "cells": [
  {
   "cell_type": "markdown",
   "id": "e7dbbe71",
   "metadata": {},
   "source": [
    "# For loop"
   ]
  },
  {
   "cell_type": "code",
   "execution_count": 2,
   "id": "c9afaad6",
   "metadata": {},
   "outputs": [
    {
     "name": "stdout",
     "output_type": "stream",
     "text": [
      "1985860272720\n"
     ]
    }
   ],
   "source": [
    "# identify memory location\n",
    "x = 12\n",
    "print(id(x))"
   ]
  },
  {
   "cell_type": "code",
   "execution_count": 8,
   "id": "c4e6253d",
   "metadata": {},
   "outputs": [
    {
     "name": "stdout",
     "output_type": "stream",
     "text": [
      "pink\n",
      "red\n",
      "blue\n"
     ]
    }
   ],
   "source": [
    "\"\"\" A for loop is used for iterating over a sequence \"\"\"\n",
    "\"\"\"that is either a list, a tuple, a dictionary, a set, or a string\"\"\"\n",
    "color = [\"pink\",\"red\",\"blue\"]\n",
    "for e in color :\n",
    "    print(e)"
   ]
  },
  {
   "cell_type": "code",
   "execution_count": 10,
   "id": "d207ff7d",
   "metadata": {},
   "outputs": [
    {
     "name": "stdout",
     "output_type": "stream",
     "text": [
      "devarth\n",
      "bhumi\n",
      "devika\n"
     ]
    }
   ],
   "source": [
    "student = [\"devarth\",\"bhumi\",\"devika\"]\n",
    "for d in student :\n",
    "    print(d)"
   ]
  },
  {
   "cell_type": "code",
   "execution_count": 18,
   "id": "ff6a9492",
   "metadata": {},
   "outputs": [
    {
     "name": "stdout",
     "output_type": "stream",
     "text": [
      "d e v a r t h "
     ]
    }
   ],
   "source": [
    "for x in  \"devarth\":\n",
    "    print(x, end = \" \")"
   ]
  },
  {
   "cell_type": "code",
   "execution_count": 20,
   "id": "2ad4ebd9",
   "metadata": {},
   "outputs": [
    {
     "name": "stdout",
     "output_type": "stream",
     "text": [
      "b\n",
      "h\n",
      "u\n",
      "m\n",
      "i\n"
     ]
    }
   ],
   "source": [
    "for v in \"bhumi\" :\n",
    "    print(v)\n",
    "    "
   ]
  },
  {
   "cell_type": "code",
   "execution_count": 22,
   "id": "e9aa47b5",
   "metadata": {},
   "outputs": [
    {
     "name": "stdout",
     "output_type": "stream",
     "text": [
      "b h u m i "
     ]
    }
   ],
   "source": [
    "for v in \"bhumi\" :\n",
    "    print(v , end = \" \")"
   ]
  },
  {
   "cell_type": "markdown",
   "id": "53d011ce",
   "metadata": {},
   "source": [
    "# Break  statement"
   ]
  },
  {
   "cell_type": "code",
   "execution_count": 28,
   "id": "c24c1a9c",
   "metadata": {},
   "outputs": [
    {
     "name": "stdout",
     "output_type": "stream",
     "text": [
      "neha\n",
      "smita\n"
     ]
    }
   ],
   "source": [
    "\"\"\" The break statement we can stop the loop before it has looped through all the items\"\"\"\n",
    "name = [\"neha\",\"smita\",\"kanishka\"]    # break statment\n",
    "for x in name:\n",
    "    print(x)\n",
    "    if x == \"smita\":\n",
    "        break"
   ]
  },
  {
   "cell_type": "markdown",
   "id": "742869e5",
   "metadata": {},
   "source": [
    "# Continue statement"
   ]
  },
  {
   "cell_type": "code",
   "execution_count": 30,
   "id": "262a2656",
   "metadata": {},
   "outputs": [
    {
     "name": "stdout",
     "output_type": "stream",
     "text": [
      "blue\n",
      "red\n"
     ]
    }
   ],
   "source": [
    "\n",
    "color = [\"blue\",\"black\",\"red\"]   # continue statement\n",
    "for t in color :\n",
    "    if t == \"black\" :\n",
    "        continue\n",
    "    print(t)"
   ]
  },
  {
   "cell_type": "markdown",
   "id": "07a27db8",
   "metadata": {},
   "source": [
    "# Range statement"
   ]
  },
  {
   "cell_type": "code",
   "execution_count": 36,
   "id": "d9f52b77",
   "metadata": {},
   "outputs": [
    {
     "name": "stdout",
     "output_type": "stream",
     "text": [
      "0\n",
      "1\n",
      "2\n",
      "3\n",
      "4\n",
      "5\n",
      "6\n",
      "7\n",
      "8\n",
      "9\n"
     ]
    }
   ],
   "source": [
    "for x in range(10) :   # starting point\n",
    "    print(x)"
   ]
  },
  {
   "cell_type": "code",
   "execution_count": 37,
   "id": "302eaaa9",
   "metadata": {},
   "outputs": [
    {
     "name": "stdout",
     "output_type": "stream",
     "text": [
      "2\n",
      "3\n",
      "4\n",
      "5\n",
      "6\n",
      "7\n",
      "8\n",
      "9\n"
     ]
    }
   ],
   "source": [
    "for v in range (2,10):    #ending point\n",
    "    print(v)"
   ]
  },
  {
   "cell_type": "code",
   "execution_count": 41,
   "id": "ae7b181b",
   "metadata": {},
   "outputs": [
    {
     "name": "stdout",
     "output_type": "stream",
     "text": [
      "3\n",
      "5\n"
     ]
    }
   ],
   "source": [
    "for d in range (3,7,2):   #Step sizing\n",
    "    print(d)"
   ]
  },
  {
   "cell_type": "markdown",
   "id": "aa42d302",
   "metadata": {},
   "source": [
    "# else statement"
   ]
  },
  {
   "cell_type": "code",
   "execution_count": 42,
   "id": "50ea1a90",
   "metadata": {},
   "outputs": [
    {
     "name": "stdout",
     "output_type": "stream",
     "text": [
      "0\n",
      "1\n",
      "2\n",
      "3\n",
      "4\n",
      "5\n",
      "6\n",
      "7\n",
      "8\n",
      "9\n",
      "this is not avalible\n"
     ]
    }
   ],
   "source": [
    "for d in range (10) :\n",
    "    print(d)\n",
    "else :\n",
    "    print(\"this is not avalible\")"
   ]
  }
 ],
 "metadata": {
  "kernelspec": {
   "display_name": "Python 3 (ipykernel)",
   "language": "python",
   "name": "python3"
  },
  "language_info": {
   "codemirror_mode": {
    "name": "ipython",
    "version": 3
   },
   "file_extension": ".py",
   "mimetype": "text/x-python",
   "name": "python",
   "nbconvert_exporter": "python",
   "pygments_lexer": "ipython3",
   "version": "3.10.9"
  }
 },
 "nbformat": 4,
 "nbformat_minor": 5
}
